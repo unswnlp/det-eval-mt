{
 "cells": [
  {
   "cell_type": "code",
   "execution_count": null,
   "metadata": {},
   "outputs": [],
   "source": [
    "import pandas as pd\n",
    "import json\n",
    "import random\n",
    "from tqdm import tqdm\n",
    "from itertools import combinations\n",
    "\n",
    "key=\"OPENAI_KEY\"\n",
    "\n",
    "from openai import OpenAI\n",
    "client = OpenAI(api_key=key)"
   ]
  },
  {
   "cell_type": "code",
   "execution_count": 3,
   "metadata": {},
   "outputs": [],
   "source": [
    "data = pd.read_csv(\"../data/educhat-translation/all_translations.csv\")"
   ]
  },
  {
   "cell_type": "code",
   "execution_count": 4,
   "metadata": {},
   "outputs": [
    {
     "name": "stderr",
     "output_type": "stream",
     "text": [
      "100%|██████████| 60/60 [03:19<00:00,  3.32s/it]\n"
     ]
    }
   ],
   "source": [
    "entries = []\n",
    "for i in tqdm(range(len(data))):\n",
    "    entry = {\n",
    "        \"original\" : data[\"english\"].iloc[i],\n",
    "        \"khmer\" : data[\"khmer\"].iloc[i]\n",
    "    }\n",
    "    response = client.chat.completions.create(\n",
    "        model=\"gpt-4o\",\n",
    "        temperature=0.9,\n",
    "        messages=[\n",
    "            {\"role\": \"system\", \"content\": \"Please translate the following text exactly and literally from Khmer to English. Do not summarize or omit details. Preserve all names, terms, and structure as closely as possible. You will output in the following JSON format. {'translated': translated_text}\"},\n",
    "            {\n",
    "                \"role\": \"user\",\n",
    "                \"content\": data[\"khmer\"].iloc[i]\n",
    "            }\n",
    "        ],\n",
    "        response_format={\"type\":\"json_object\"}\n",
    "    )\n",
    "    \n",
    "    entry[\"translated\"] = json.loads(response.choices[0].message.content)[\"translated\"]\n",
    "    entries.append(entry)"
   ]
  },
  {
   "cell_type": "code",
   "execution_count": 5,
   "metadata": {},
   "outputs": [],
   "source": [
    "pd.DataFrame(entries).to_csv(\"../results/back-translated.csv\", index=False)"
   ]
  },
  {
   "cell_type": "code",
   "execution_count": null,
   "metadata": {},
   "outputs": [],
   "source": []
  }
 ],
 "metadata": {
  "kernelspec": {
   "display_name": ".venv",
   "language": "python",
   "name": "python3"
  },
  "language_info": {
   "codemirror_mode": {
    "name": "ipython",
    "version": 3
   },
   "file_extension": ".py",
   "mimetype": "text/x-python",
   "name": "python",
   "nbconvert_exporter": "python",
   "pygments_lexer": "ipython3",
   "version": "3.11.9"
  }
 },
 "nbformat": 4,
 "nbformat_minor": 2
}
