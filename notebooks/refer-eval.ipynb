{
 "cells": [
  {
   "cell_type": "code",
   "execution_count": 8,
   "metadata": {},
   "outputs": [],
   "source": [
    "import pandas as pd\n",
    "import json\n",
    "import evaluate\n",
    "\n",
    "from tqdm import tqdm"
   ]
  },
  {
   "cell_type": "code",
   "execution_count": 3,
   "metadata": {},
   "outputs": [],
   "source": [
    "bleu = evaluate.load(\"bleu\")\n",
    "rouge = evaluate.load(\"rouge\")\n",
    "chrf = evaluate.load(\"chrf\")"
   ]
  },
  {
   "cell_type": "code",
   "execution_count": 17,
   "metadata": {},
   "outputs": [
    {
     "name": "stderr",
     "output_type": "stream",
     "text": [
      "100%|██████████| 22/22 [00:01<00:00, 14.90it/s]\n"
     ]
    }
   ],
   "source": [
    "with open(\"../data/post-edited/sentence.json\", \"r\") as json_file:\n",
    "    sent_langs = json.load(json_file)\n",
    "\n",
    "entries = []    \n",
    "for lang in tqdm(sent_langs):\n",
    "    csv_file = f\"../data/post-edited/sentence/{lang}.csv\"\n",
    "    data = pd.read_csv(csv_file)\n",
    "\n",
    "    try:\n",
    "        entry = dict()\n",
    "        bleu_score = bleu.compute(predictions=list(data[\"Generated\"]), references=[[i] for i in data[\"Corrected\"]])\n",
    "        rouge_score = rouge.compute(predictions=list(data[\"Generated\"]), references=[[i] for i in data[\"Corrected\"]])\n",
    "        chrf_score = chrf.compute(predictions=list(data[\"Generated\"]), references=[[i] for i in data[\"Corrected\"]])\n",
    "        \n",
    "        entry[\"language\"] = lang.replace('_', ' ').split()[0].lower()\n",
    "        entry[\"chrf\"] = chrf_score\n",
    "        entry[\"bleu\"] = bleu_score\n",
    "        entry[\"rouge\"] = rouge_score\n",
    "        entry[\"mean\"] = (chrf_score[\"score\"]/100 +bleu_score[\"bleu\"]+rouge_score[\"rouge1\"]+rouge_score[\"rouge2\"]+rouge_score[\"rougeL\"])/5\n",
    "        entries.append(entry)\n",
    "    except:\n",
    "        pass\n",
    "    \n",
    "pd.DataFrame(entries).to_json(\"../results/sentence.json\", orient=\"records\", indent=4)"
   ]
  },
  {
   "cell_type": "code",
   "execution_count": 19,
   "metadata": {},
   "outputs": [
    {
     "name": "stderr",
     "output_type": "stream",
     "text": [
      "100%|██████████| 22/22 [00:01<00:00, 12.57it/s]\n"
     ]
    }
   ],
   "source": [
    "with open(\"../data/post-edited/paragraph.json\", \"r\") as json_file:\n",
    "    par_langs = json.load(json_file)\n",
    "\n",
    "entries = []    \n",
    "for lang in tqdm(par_langs):\n",
    "    csv_file = f\"../data/post-edited/paragraph/{lang}.csv\"\n",
    "    data = pd.read_csv(csv_file)\n",
    "\n",
    "    try:\n",
    "        entry = dict()\n",
    "        bleu_score = bleu.compute(predictions=list(data[\"Generated\"]), references=[[i] for i in data[\"Corrected\"]])\n",
    "        rouge_score = rouge.compute(predictions=list(data[\"Generated\"]), references=[[i] for i in data[\"Corrected\"]])\n",
    "        chrf_score = chrf.compute(predictions=list(data[\"Generated\"]), references=[[i] for i in data[\"Corrected\"]])\n",
    "        \n",
    "        entry[\"language\"] = lang.replace('_', ' ').split()[0].lower()\n",
    "        entry[\"chrf\"] = chrf_score\n",
    "        entry[\"bleu\"] = bleu_score\n",
    "        entry[\"rouge\"] = rouge_score\n",
    "        entry[\"mean\"] = (chrf_score[\"score\"]/100 +bleu_score[\"bleu\"]+rouge_score[\"rouge1\"]+rouge_score[\"rouge2\"]+rouge_score[\"rougeL\"])/5\n",
    "        entries.append(entry)\n",
    "    except:\n",
    "        pass\n",
    "    \n",
    "pd.DataFrame(entries).to_json(\"../results/paragraph.json\", orient=\"records\", indent=4)"
   ]
  },
  {
   "cell_type": "code",
   "execution_count": null,
   "metadata": {},
   "outputs": [],
   "source": []
  }
 ],
 "metadata": {
  "kernelspec": {
   "display_name": ".venv",
   "language": "python",
   "name": "python3"
  },
  "language_info": {
   "codemirror_mode": {
    "name": "ipython",
    "version": 3
   },
   "file_extension": ".py",
   "mimetype": "text/x-python",
   "name": "python",
   "nbconvert_exporter": "python",
   "pygments_lexer": "ipython3",
   "version": "3.11.9"
  }
 },
 "nbformat": 4,
 "nbformat_minor": 2
}
